{
 "cells": [
  {
   "cell_type": "code",
   "execution_count": 156,
   "metadata": {},
   "outputs": [],
   "source": [
    "import os\n",
    "import glob\n",
    "import subprocess\n",
    "import pandas as pd\n",
    "import numpy as np\n",
    "import cv2 \n",
    "\n",
    "import affine\n",
    "from osgeo import gdal \n",
    "import geopandas as gpd\n",
    "from shapely import wkt\n",
    "\n",
    "import rasterio as rio \n",
    "from rasterio import features\n",
    "from rasterio.windows import Window\n",
    "from rasterio.enums import ColorInterp \n",
    "\n",
    "import warnings \n",
    "\n",
    "class GeoPol_Change(): \n",
    "    def __init__(self, pngp=None, tifp=None, shpp=None, outp=None):\n",
    "        self.pngp = pngp # png path\n",
    "        self.tifp = tifp # tif path\n",
    "        self.shpp = shpp # shapefile path\n",
    "        self.outp = outp # output path\n",
    "\n",
    "    def color_remove(self, tif):\n",
    "        '''\n",
    "        Replaces land, ocean, and boundary colors with white\n",
    "        Boundaries are dissolved later on with geopandas\n",
    "        '''\n",
    "        # uses the bgr format \n",
    "        pb, gy, pb2, b, r , B, w = [244, 220, 182], [218, 217, 216], [249, 237, 217], [255, 0, 0], [0, 0, 255], [8, 7, 5], [255, 255, 255]\n",
    "        colors = np.array([pb, gy, pb2, b, r, B]) # colors to remove\n",
    "        img = cv2.imread(tif, cv2.IMREAD_UNCHANGED)\n",
    "        mask = np.isin(img, colors).all(axis=-1)\n",
    "        img[mask] = np.array(w)\n",
    "        cv2.imwrite(tif, img)\n",
    "\n",
    "    def set_geo_trans(self, tif, wf='GeoPol_ImageChange/B50_B59/B50-318.PGwx'): \n",
    "        '''\n",
    "        Set geotransformation values\n",
    "        Based on world file information\n",
    "        https://gis.stackexchange.com/questions/131878/adding-origin-to-geotiff-using-python-gdal\n",
    "        '''\n",
    "        \n",
    "        ds = gdal.Open(tif)\n",
    "\n",
    "        ### manually setting world file \n",
    "        # geo_transform = [-15215756.744657781, 6806.6656849648989, 105.47907169670098, \n",
    "        #                     8471766.9069917351, 10.579092711745099, -6871.0052071305408] \n",
    "        # ds.SetGeoTransform(geo_transform)\n",
    " \n",
    "        ### setting geotransform with world file *.PGwx\n",
    "        with open(wf) as fp:\n",
    "           A = affine.loadsw(fp.read())\n",
    "        ds.SetGeoTransform(A.to_gdal())\n",
    "\n",
    "    def convert_img(self, rename=False): \n",
    "        '''\n",
    "        Converts pngs to geotiffs\n",
    "        Eliminates colors and sets geotransformation\n",
    "        '''\n",
    "\n",
    "        for png in glob.iglob(os.path.join(self.pngp, '*PNG')):\n",
    "            tif = os.path.join(self.tifp, os.path.basename(png.replace('.PNG','.TIFF')))\n",
    "\n",
    "            if 'georef_' in png and rename: \n",
    "                tif = tif.replace('georef_','')\n",
    "\n",
    "            # Sphere Robinson: 'ESRI:53030'\n",
    "            # ! gdal_translate -of Gtiff -a_ullr 0 2400 1200 0 -a_srs ESRI:53030 png tif \n",
    "        \n",
    "            gdal_translate_cmd = ['gdal_translate', '-of', 'Gtiff', \n",
    "                                  '-a_ullr', '0', '2400', '1200', '0', # attempt to fix shift\n",
    "                                  '-a_srs', 'ESRI:53030', \n",
    "                                   png, tif]\n",
    "\n",
    "            # subprocess.run(gdal_translate_cmd1)\n",
    "            subprocess.run(gdal_translate_cmd)\n",
    "            # removes colors\n",
    "            self.color_remove(tif) \n",
    "            # sets transformation parameters\n",
    "            self.set_geo_trans(tif)\n",
    "\n",
    "    def color_assign(self, shape, src):\n",
    "        '''\n",
    "        Get bgr value from bands of pixel corresponding to the coordinate center of shapes read from image \n",
    "        https://gis.stackexchange.com/questions/426213/find-pixel-value-from-geotiff-using-latitude-and-longitude\n",
    "        https://stackoverflow.com/questions/60127026/python-how-do-i-get-the-pixel-values-from-an-geotiff-map-by-coordinate \n",
    "        '''\n",
    "        colors = []\n",
    "        shape = gpd.GeoDataFrame(shape, geometry='geometry', crs='ESRI:53030')\n",
    "\n",
    "        for geom in shape['geometry']:\n",
    "            try:\n",
    "                # find centriod and assign color \n",
    "                lon, lat = geom.centroid.y, geom.centroid.x\n",
    "                # to pixel coordinate\n",
    "                row, col = rio.transform.rowcol(src.transform, lat, lon)  #src.transform, lat, lon) \n",
    "                # set window to pixel coordinates\n",
    "                w = Window(col, row, 1, 1)\n",
    "                # read band colors from pixel data bgr format\n",
    "                b, g, r = (src.read(k, window=w) for k in (1, 2, 3))\n",
    "                # save as rgb \n",
    "                colors.append(\"{} {} {}\".format(b, g, r).replace(\"[[\", \"\").replace(\"]]\", \"\"))\n",
    "                \n",
    "            except Exception:\n",
    "                colors.append(np.nan)\n",
    "\n",
    "        # returns list for assignment \n",
    "        return colors\n",
    "\n",
    "    def process_tif(self, tif):\n",
    "        ### set color interpretation\n",
    "        with rio.open(tif, 'r+') as src:\n",
    "            src.colorinterp = [ColorInterp.red, ColorInterp.green, ColorInterp.blue]\n",
    "        \n",
    "        bgr = ['b','g','r'] # used for specifying bgr columns\n",
    "        with rio.open(tif) as src:\n",
    "            polygons = []\n",
    "            ### read shape by band then concat\n",
    "            for k in (1, 2, 3):\n",
    "                band = src.read(k)\n",
    "                shapes = features.shapes(band, mask=None, transform=src.transform, connectivity=8)\n",
    "                fc = [{\"geometry\": shape, \"properties\": {\"value\": value}} for shape, value in shapes]\n",
    "                shape = gpd.GeoDataFrame.from_features(fc)\n",
    "                shape = shape.rename(columns={\"value\":bgr[k-1]})\n",
    "                polygons.append(shape)\n",
    "            gdf = pd.concat(polygons)\n",
    "            ### add id column\n",
    "            gdf['id'] = os.path.basename(tif)[:3]\n",
    "            ### remove the largest polygon \n",
    "            gdf = gpd.GeoDataFrame(gdf)\n",
    "            ### overlap geometries compare between bgr columns\n",
    "            gdf['bgr'] = self.color_assign(gdf, src)\n",
    "            ### \n",
    "            # gdf[\"wtk\"] = gdf.apply(lambda x: x.geometry.wkt, axis=1) \n",
    "            # gdf = gdf.dissolve(by=\"wtk\") # dissolve identical geometries\n",
    "            # adding to mask to remove white-associated colors \n",
    "            m = gdf[gdf[['b', 'g', 'r']].isin([255.0, np.nan]).all(axis=1)]\n",
    "            m = m[m['bgr'] == '255 255 255']\n",
    "            # remove white color\n",
    "            gdf = gdf.drop(m.index)\n",
    "            \n",
    "        return gdf\n",
    "\n",
    "    def save_shape(self):\n",
    "        store = [] \n",
    "        for tif in glob.glob(os.path.join(self.tifp, '*TIFF')): \n",
    "            store.append(self.process_tif(tif))\n",
    "        df = pd.concat(store).sort_values(by='id')\n",
    "        return df\n",
    "\n",
    "    def find_change(self, csv=None): \n",
    "        '''\n",
    "        compare ids successively\n",
    "        save geometry of intersection by rgb value\n",
    "        '''\n",
    "\n",
    "        # call shape reading function\n",
    "        if csv==None: \n",
    "            df = self.save_shape()\n",
    "        else: \n",
    "            df = pd.read_csv(csv)\n",
    "            df['geometry'] = df['geometry'].apply(wkt.loads) \n",
    "\n",
    "        # convert back into geodataframe\n",
    "        id_list = df['id'].unique()\n",
    "\n",
    "        ### create successive ids\n",
    "        for i in range(len(id_list)-1): \n",
    "            # create dfs for successive comparison\n",
    "            df1 = df[df['id'] == id_list[i]]\n",
    "            df2 = df[df['id'] == id_list[i+1]]\n",
    "\n",
    "            gdf1 = gpd.GeoDataFrame(df1, geometry='geometry', crs='ESRI:53030')\n",
    "            gdf2 = gpd.GeoDataFrame(df2, geometry='geometry', crs='ESRI:53030')\n",
    "\n",
    "            ### find intersection and diff then combine\n",
    "            diff = gpd.overlay(gdf2, gdf1, how='symmetric_difference', keep_geom_type=False)\n",
    "            # gdf1 = gdf1.dissolve(by='bgr').reset_index() \n",
    "            # gdf2 = gdf2.dissolve(by='bgr').reset_index()\n",
    "            ints = gpd.overlay(gdf2, gdf1, how='intersection', keep_geom_type=True)\n",
    "            ints = ints[ints['bgr_2'] != ints['bgr_1']]\n",
    "\n",
    "            result = pd.concat([diff, ints])\n",
    "            # result = result.drop_duplicates(subset='geometry')\n",
    "\n",
    "            # save to both csv and shapefile specify path\n",
    "            out = os.path.join(self.outp, \"{}_{}.csv\".format(id_list[i],id_list[i+1]))\n",
    "            # shp = os.path.join(self.shpp, \"{}_{}\".format(id_list[i],id_list[i+1]))\n",
    "            # result.to_file(filename=shp, driver='ESRI Shapefile')\n",
    "            result.to_csv(out, index=False)\n",
    "            \n",
    "    def csv_to_shp(self): \n",
    "        for csv in glob.glob(os.path.join(self.outp, '*csv')): \n",
    "            gdf = gpd.read_file(csv)\n",
    "            shp = os.path.basename(shp.replace('.csv','.shp'))\n",
    "            gdf.to_file(filename=shp, driver='ESRI Shapefile', crs_wkt='ESRI_WKT')\n"
   ]
  },
  {
   "cell_type": "markdown",
   "metadata": {},
   "source": [
    "## current issues\n",
    "+ polygons in legend \n",
    "+ 70km shift (output data)\n",
    "```"
   ]
  },
  {
   "cell_type": "code",
   "execution_count": null,
   "metadata": {},
   "outputs": [],
   "source": [
    "gp5 = GeoPol_Change(pngp='GeoPol_ImageChange/B50_B59', tifp='B50-B89/GeoTiff')\n",
    "gp5.convert_img()\n",
    "gp6 = GeoPol_Change(pngp='GeoPol_ImageChange/B60_B69', tifp='B50-B89/GeoTiff')\n",
    "gp6.convert_img()\n",
    "gp7 = GeoPol_Change(pngp='GeoPol_ImageChange/B70_B79', tifp='B50-B89/GeoTiff')\n",
    "gp7.convert_img()\n",
    "gp8 = GeoPol_Change(pngp='GeoPol_ImageChange/B80_B89', tifp='B50-B89/GeoTiff')\n",
    "gp8.convert_img()"
   ]
  },
  {
   "cell_type": "code",
   "execution_count": 118,
   "metadata": {},
   "outputs": [],
   "source": [
    "# warnings.filterwarnings(\"ignore\")\n",
    "gpb = GeoPol_Change(tifp='B50-B89/GeoTiff', outp='B50-B89/output', shpp='B50-B89/shapefile')\n",
    "df = gpb.save_shape()\n",
    "df.to_csv('B50-B89/output.csv')"
   ]
  },
  {
   "cell_type": "code",
   "execution_count": null,
   "metadata": {},
   "outputs": [],
   "source": [
    "gpb = GeoPol_Change(tifp='B50-B89/GeoTiff', outp='B50-B89/output', shpp='B50-B89/shapefile')\n",
    "gpb.find_change() # took 16 minutes "
   ]
  },
  {
   "cell_type": "code",
   "execution_count": 11,
   "metadata": {},
   "outputs": [
    {
     "data": {
      "text/plain": [
       "186"
      ]
     },
     "execution_count": 11,
     "metadata": {},
     "output_type": "execute_result"
    }
   ],
   "source": [
    "df = pd.read_csv('B50-B89/output.csv')\n",
    "len(df['bgr'].unique())"
   ]
  },
  {
   "cell_type": "code",
   "execution_count": 54,
   "metadata": {},
   "outputs": [],
   "source": [
    "gpc = GeoPol_Change(tifp='C70-C90/geotiff', outp='C70-C90/out', shpp='C70-C90/shapefile')\n",
    "# gpc.find_change()\n",
    "df = gpc.save_shape()\n",
    "df.to_csv('C70-C90/output.csv')\n",
    "# gpc.convert_img(rename=True)"
   ]
  },
  {
   "cell_type": "markdown",
   "metadata": {},
   "source": [
    "# Output visual test"
   ]
  },
  {
   "cell_type": "code",
   "execution_count": 119,
   "metadata": {},
   "outputs": [
    {
     "data": {
      "text/html": [
       "<div>\n",
       "<style scoped>\n",
       "    .dataframe tbody tr th:only-of-type {\n",
       "        vertical-align: middle;\n",
       "    }\n",
       "\n",
       "    .dataframe tbody tr th {\n",
       "        vertical-align: top;\n",
       "    }\n",
       "\n",
       "    .dataframe thead th {\n",
       "        text-align: right;\n",
       "    }\n",
       "</style>\n",
       "<table border=\"1\" class=\"dataframe\">\n",
       "  <thead>\n",
       "    <tr style=\"text-align: right;\">\n",
       "      <th></th>\n",
       "      <th>geometry</th>\n",
       "      <th>b</th>\n",
       "      <th>g</th>\n",
       "      <th>r</th>\n",
       "      <th>id</th>\n",
       "      <th>bgr</th>\n",
       "    </tr>\n",
       "  </thead>\n",
       "  <tbody>\n",
       "    <tr>\n",
       "      <th>0</th>\n",
       "      <td>POLYGON ((-11958398.037651137 8452780.48462934...</td>\n",
       "      <td>58.0</td>\n",
       "      <td>NaN</td>\n",
       "      <td>NaN</td>\n",
       "      <td>B50</td>\n",
       "      <td>58 0 0</td>\n",
       "    </tr>\n",
       "    <tr>\n",
       "      <th>1</th>\n",
       "      <td>POLYGON ((-15019363.612910949 5211702.38670159...</td>\n",
       "      <td>NaN</td>\n",
       "      <td>144.0</td>\n",
       "      <td>NaN</td>\n",
       "      <td>B50</td>\n",
       "      <td>58 144 219</td>\n",
       "    </tr>\n",
       "    <tr>\n",
       "      <th>2</th>\n",
       "      <td>POLYGON ((-15032976.94428088 5211681.228516173...</td>\n",
       "      <td>NaN</td>\n",
       "      <td>219.0</td>\n",
       "      <td>NaN</td>\n",
       "      <td>B50</td>\n",
       "      <td>255 219 144</td>\n",
       "    </tr>\n",
       "    <tr>\n",
       "      <th>3</th>\n",
       "      <td>POLYGON ((-14713274.615230924 5225920.45628788...</td>\n",
       "      <td>NaN</td>\n",
       "      <td>182.0</td>\n",
       "      <td>NaN</td>\n",
       "      <td>B50</td>\n",
       "      <td>255 255 255</td>\n",
       "    </tr>\n",
       "    <tr>\n",
       "      <th>4</th>\n",
       "      <td>POLYGON ((-14747307.943655748 5225867.56082432...</td>\n",
       "      <td>NaN</td>\n",
       "      <td>219.0</td>\n",
       "      <td>NaN</td>\n",
       "      <td>B50</td>\n",
       "      <td>255 219 144</td>\n",
       "    </tr>\n",
       "  </tbody>\n",
       "</table>\n",
       "</div>"
      ],
      "text/plain": [
       "                                            geometry     b      g   r   id  \\\n",
       "0  POLYGON ((-11958398.037651137 8452780.48462934...  58.0    NaN NaN  B50   \n",
       "1  POLYGON ((-15019363.612910949 5211702.38670159...   NaN  144.0 NaN  B50   \n",
       "2  POLYGON ((-15032976.94428088 5211681.228516173...   NaN  219.0 NaN  B50   \n",
       "3  POLYGON ((-14713274.615230924 5225920.45628788...   NaN  182.0 NaN  B50   \n",
       "4  POLYGON ((-14747307.943655748 5225867.56082432...   NaN  219.0 NaN  B50   \n",
       "\n",
       "           bgr  \n",
       "0       58 0 0  \n",
       "1   58 144 219  \n",
       "2  255 219 144  \n",
       "3  255 255 255  \n",
       "4  255 219 144  "
      ]
     },
     "execution_count": 119,
     "metadata": {},
     "output_type": "execute_result"
    }
   ],
   "source": [
    "import pandas as pd\n",
    "import geopandas as gpd\n",
    "import plotly.express as px \n",
    "from shapely import wkt\n",
    "\n",
    "warnings.filterwarnings(\"ignore\")\n",
    "\n",
    "df = pd.read_csv('B50-B89/output.csv')\n",
    "df['geometry'] = df['geometry'].apply(wkt.loads) \n",
    "# df = df.drop(df[df['rgb'] == '255 255 255'].index)\n",
    "df = df.drop(columns=['Unnamed: 0'])\n",
    "\n",
    "df1 = df[df['id'] == 'B50']\n",
    "df2 = df[df['id'] == 'B51']\n",
    "df = pd.concat([df1, df2])\n",
    "\n",
    "df.head()"
   ]
  },
  {
   "cell_type": "code",
   "execution_count": 120,
   "metadata": {},
   "outputs": [
    {
     "data": {
      "text/html": [
       "<div>\n",
       "<style scoped>\n",
       "    .dataframe tbody tr th:only-of-type {\n",
       "        vertical-align: middle;\n",
       "    }\n",
       "\n",
       "    .dataframe tbody tr th {\n",
       "        vertical-align: top;\n",
       "    }\n",
       "\n",
       "    .dataframe thead th {\n",
       "        text-align: right;\n",
       "    }\n",
       "</style>\n",
       "<table border=\"1\" class=\"dataframe\">\n",
       "  <thead>\n",
       "    <tr style=\"text-align: right;\">\n",
       "      <th></th>\n",
       "      <th>geometry</th>\n",
       "      <th>b</th>\n",
       "      <th>g</th>\n",
       "      <th>r</th>\n",
       "      <th>id</th>\n",
       "      <th>bgr</th>\n",
       "    </tr>\n",
       "  </thead>\n",
       "  <tbody>\n",
       "  </tbody>\n",
       "</table>\n",
       "</div>"
      ],
      "text/plain": [
       "Empty DataFrame\n",
       "Columns: [geometry, b, g, r, id, bgr]\n",
       "Index: []"
      ]
     },
     "execution_count": 120,
     "metadata": {},
     "output_type": "execute_result"
    }
   ],
   "source": [
    "dfw = df[df[['b', 'g', 'r']].isin([255.0, np.nan]).all(axis=1)]\n",
    "dfw = dfw[dfw['bgr'] == '255 255 255']\n",
    "dfw"
   ]
  },
  {
   "cell_type": "code",
   "execution_count": 121,
   "metadata": {},
   "outputs": [
    {
     "data": {
      "text/plain": [
       "<Axes: >"
      ]
     },
     "execution_count": 121,
     "metadata": {},
     "output_type": "execute_result"
    },
    {
     "data": {
      "image/png": "[encoded data removed]",
      "text/plain": [
       "<Figure size 640x480 with 1 Axes>"
      ]
     },
     "metadata": {},
     "output_type": "display_data"
    }
   ],
   "source": [
    "gdf1 = gpd.GeoDataFrame(df1, geometry='geometry', crs='ESRI:53030')\n",
    "gdf2 = gpd.GeoDataFrame(df2, geometry='geometry', crs='ESRI:53030')\n",
    "# gdf = gdf1.dissolve(by='rgb').reset_index()\n",
    "gdf1.plot()"
   ]
  },
  {
   "cell_type": "code",
   "execution_count": 122,
   "metadata": {},
   "outputs": [
    {
     "data": {
      "text/plain": [
       "<Axes: >"
      ]
     },
     "execution_count": 122,
     "metadata": {},
     "output_type": "execute_result"
    },
    {
     "data": {
      "image/png": "[encoded data removed]",
      "text/plain": [
       "<Figure size 640x480 with 1 Axes>"
      ]
     },
     "metadata": {},
     "output_type": "display_data"
    }
   ],
   "source": [
    "gdf1.plot(column='bgr', categorical=True)"
   ]
  },
  {
   "cell_type": "code",
   "execution_count": 127,
   "metadata": {},
   "outputs": [
    {
     "data": {
      "text/plain": [
       "<Axes: >"
      ]
     },
     "execution_count": 127,
     "metadata": {},
     "output_type": "execute_result"
    },
    {
     "data": {
      "image/png": "[encoded data removed]",
      "text/plain": [
       "<Figure size 640x480 with 1 Axes>"
      ]
     },
     "metadata": {},
     "output_type": "display_data"
    }
   ],
   "source": [
    "# gdf2 = gdf2.dissolve(by='bgr').reset_index()\n",
    "gdf2.plot(column='bgr', categorical=True)"
   ]
  },
  {
   "cell_type": "code",
   "execution_count": 153,
   "metadata": {},
   "outputs": [
    {
     "data": {
      "text/plain": [
       "<Axes: >"
      ]
     },
     "execution_count": 153,
     "metadata": {},
     "output_type": "execute_result"
    },
    {
     "data": {
      "image/png": "[encoded data removed]",
      "text/plain": [
       "<Figure size 640x480 with 1 Axes>"
      ]
     },
     "metadata": {},
     "output_type": "display_data"
    }
   ],
   "source": [
    "gdf1 = gpd.GeoDataFrame(df1, geometry='geometry', crs='ESRI:53030')\n",
    "gdf2 = gpd.GeoDataFrame(df2, geometry='geometry', crs='ESRI:53030')\n",
    "diff = gpd.overlay(gdf2, gdf1, how='symmetric_difference', keep_geom_type=False) #, how='union')\n",
    "diff.plot()"
   ]
  },
  {
   "cell_type": "code",
   "execution_count": 160,
   "metadata": {},
   "outputs": [
    {
     "data": {
      "text/plain": [
       "<Axes: >"
      ]
     },
     "execution_count": 160,
     "metadata": {},
     "output_type": "execute_result"
    },
    {
     "data": {
      "image/png": "[encoded data removed]",
      "text/plain": [
       "<Figure size 640x480 with 1 Axes>"
      ]
     },
     "metadata": {},
     "output_type": "display_data"
    }
   ],
   "source": [
    "warnings.filterwarnings(\"ignore\")\n",
    "ints = gpd.overlay(gdf2, gdf1, how='intersection', keep_geom_type=True)\n",
    "ints = ints[ints['bgr_2'] != ints['bgr_1']]\n",
    "ints.plot()"
   ]
  },
  {
   "cell_type": "markdown",
   "metadata": {},
   "source": [
    "# scratch"
   ]
  },
  {
   "cell_type": "markdown",
   "metadata": {},
   "source": [
    "\n",
    "```python\n",
    "\n",
    "gdf = pd.concat([d.set_index('geometry') for d in polygons], axis=1, join='outer').reset_index()\n",
    "\n",
    "def convert_shp(self):\n",
    "    '''\n",
    "    tif to polygonized shapefile\n",
    "    https://gis.stackexchange.com/questions/78001/gdal-polygonize-only-certain-raster-values\n",
    "    https://gis.stackexchange.com/questions/329084/constructing-boundary-polygon-around-raster-image-when-mask-layer-is-ill-defined \n",
    "    '''\n",
    "\n",
    "    for tif in glob.iglob(os.path.join(self.tifp, '*TIFF')):\n",
    "        # ! gdal_polygonize.py GeoTiff/B50-318.TIFF shapefiles/B50.shp\n",
    "        shp = os.path.join(self.shpp, os.path.basename(tif.replace('.TIFF','.shp')))\n",
    "        gdal_polygon_cmd = ['gdal_polygonize.py', tif, shp]\n",
    "        subprocess.run(gdal_polygon_cmd)\n",
    "\n",
    "def old_compare(self):\n",
    "\n",
    "    for tif in glob.iglob(os.path.join(self.tifp, '*TIFF')):\n",
    "        # call shape reading function\n",
    "        if csv==None: \n",
    "            df = self.save_shape()\n",
    "        else: \n",
    "            df = pd.read_csv(csv)\n",
    "\n",
    "        # convert back into geodataframe\n",
    "        id_list = df['id'].unique()\n",
    "\n",
    "        for i in range(len(id_list) - 1): \n",
    "            ### create successive ids\n",
    "            # drop obsolete value column \n",
    "            df = df.drop(columns=['value'])\n",
    "            # drop white color \n",
    "            df = df.drop(df[df['rgb'] == '255 255 255'].index)\n",
    "            df['geomerty'] = df['geometry'].apply(wkt.loads) # resolves issue in this order\n",
    "            # create dfs for successive comparison\n",
    "            df1 = df[df['id'] == id_list[i]]\n",
    "            df2 = df[df['id'] == id_list[i+1]]\n",
    "            df = pd.concat([df1, df2]) # geometry is invalid \n",
    "            # df['geomerty'] = df['geometry'].apply(wkt.loads) # doesn't resolve issue\n",
    "            gdf = gpd.GeoDataFrame(df, geometry='geometry', crs='ESRI:53030')\n",
    "            # dissolve geometry by shared colors \n",
    "            gdf = gdf.dissolve(by='rgb')\n",
    "            # remove duplicate/identical geometries \n",
    "            gdf = gdf.dissolve('geometry')\n",
    "            gdf.reset_index(drop=True, inplace=True)\n",
    "            # filter by id again for comparison \n",
    "            gdf1 = gdf.loc[gdf['id'] == id_list[i]]\n",
    "            gdf2 = gdf.loc[gdf['id'] == id_list[i+1]]\n",
    "            # filter by id then overlay, intersect comparison \n",
    "\n",
    "            # https://stackoverflow.com/questions/70955598/removing-duplicate-geometries-using-two-unequal-geodataframes \n",
    "            # sjoin intersect to old area to unecessary old area geometries \n",
    "            # strip = gpd.sjoin(intersect, gdf1, how = 'inner', predicate = 'contains' )\n",
    "            # result = intersect.drop(strip.index)  # returns geometry collection  \n",
    "            gdf = gpd.overlay(gdf2, gdf1, how='intersection')\n",
    "\n",
    "            # save to specified path\n",
    "            path = os.path.join(self.outp, \"{}_{}.csv\".format(id_list[i],id_list[i+1]))\n",
    "            pd.DataFrame(gdf).to_csv(path, index=False)\n",
    "``"
   ]
  },
  {
   "cell_type": "markdown",
   "metadata": {},
   "source": [
    "Geotransformation logic. [world files](https://webhelp.esri.com/arcims/9.3/General/topics/author_world_files.htm) and [gdal command reference](https://gdal.org/tutorials/geotransforms_tut.html#geotransforms-tut). \n",
    "\n",
    ">>>\n",
    "    PNGs used contain supporting ESRI files.\n",
    "    Supplied with world file. Same for all pngs. Used this order for geotransform.\n",
    "\n",
    "    6806.6656849648989 = A = GT(1)\n",
    "    10.579092711745099 = D = GT(4) or 2? \n",
    "    105.47907169670098 = B = GT(2) or 4?\n",
    "    -6871.0052071305408 = E = GT(5)\n",
    "    -15215756.744657781 = C = GT(0)\n",
    "    8471766.9069917351 = F = GT(3)\n",
    "\n",
    "    *Esri order*\n",
    "    A = x-scale; dimension of a pixel in map units in x direction\n",
    "    B,D = rotation terms\n",
    "    C,F = translation terms; x,y map coordinates of the center of the upper-left pixel\n",
    "    E = negative of y-scale; dimension of a pixel in map units in y direction\n",
    "\n",
    "    *gdal geotransform*\n",
    "    GT(0) x-coordinate of the upper-left corner of the upper-left pixel.\n",
    "    GT(1) w-e pixel resolution / pixel width.\n",
    "    GT(2) row rotation (typically zero).\n",
    "    GT(3) y-coordinate of the upper-left corner of the upper-left pixel.\n",
    "    GT(4) column rotation (typically zero).\n",
    "    GT(5) n-s pixel resolution / pixel height (negative value for a north-up image).\n",
    "\n",
    ">>>"
   ]
  }
 ],
 "metadata": {
  "kernelspec": {
   "display_name": "geo_env",
   "language": "python",
   "name": "python3"
  },
  "language_info": {
   "codemirror_mode": {
    "name": "ipython",
    "version": 3
   },
   "file_extension": ".py",
   "mimetype": "text/x-python",
   "name": "python",
   "nbconvert_exporter": "python",
   "pygments_lexer": "ipython3",
   "version": "3.11.6"
  }
 },
 "nbformat": 4,
 "nbformat_minor": 2
}
